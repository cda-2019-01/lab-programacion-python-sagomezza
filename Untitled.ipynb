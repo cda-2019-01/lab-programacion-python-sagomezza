{
 "cells": [
  {
   "cell_type": "code",
   "execution_count": 83,
   "metadata": {},
   "outputs": [
    {
     "name": "stdout",
     "output_type": "stream",
     "text": [
      "190\n"
     ]
    }
   ],
   "source": [
    "csv = open('data.csv', 'r').readlines()\n",
    "csv = [z.replace('\\t', ' ') for z in csv]\n",
    "csv = [z.replace('\\n', ' ') for z in csv]\n",
    "csv = [z.split(',') for z in csv]\n",
    "a = [z[0].split(' ') for z in csv[0:]]\n",
    "b = []\n",
    "[b.append(int(z[1])) for z in a]\n",
    "print(sum(b))"
   ]
  },
  {
   "cell_type": "code",
   "execution_count": 82,
   "metadata": {},
   "outputs": [
    {
     "name": "stdout",
     "output_type": "stream",
     "text": [
      "A,8\n",
      "B,7\n",
      "C,5\n",
      "D,6\n",
      "E,14\n"
     ]
    },
    {
     "data": {
      "text/plain": [
       "[None, None, None, None, None]"
      ]
     },
     "execution_count": 82,
     "metadata": {},
     "output_type": "execute_result"
    }
   ],
   "source": [
    "csv = open('data.csv', 'r').readlines()\n",
    "csv = [z.replace('\\t', ' ') for z in csv]\n",
    "csv = [z.replace('\\n', ' ') for z in csv]\n",
    "csv = [z.split(',') for z in csv]\n",
    "a = [z[0] for z in csv[0:]]\n",
    "a = [z.split(' ') for z in a]\n",
    "b = []\n",
    "[b.append(z[0]) for z in a]\n",
    "uniquewords = set(b)\n",
    "b=[(w, b.count(w)) for w in uniquewords]\n",
    "def takElem (elem):\n",
    "    return elem[0]\n",
    "b.sort(key=takElem)\n",
    "[ print(z[0],z[1], sep=\",\") for z in b]\n",
    "\n"
   ]
  },
  {
   "cell_type": "code",
   "execution_count": 77,
   "metadata": {},
   "outputs": [
    {
     "ename": "SyntaxError",
     "evalue": "invalid syntax (<ipython-input-77-b062a3da90f4>, line 9)",
     "output_type": "error",
     "traceback": [
      "\u001b[0;36m  File \u001b[0;32m\"<ipython-input-77-b062a3da90f4>\"\u001b[0;36m, line \u001b[0;32m9\u001b[0m\n\u001b[0;31m    [ print(w, z[1]) if w == z[0] for z in a for w in uniquewords]\u001b[0m\n\u001b[0m                                    ^\u001b[0m\n\u001b[0;31mSyntaxError\u001b[0m\u001b[0;31m:\u001b[0m invalid syntax\n"
     ]
    }
   ],
   "source": [
    "import itertools\n",
    "from operator import itemgetter\n",
    "\n"
   ]
  },
  {
   "cell_type": "code",
   "execution_count": 84,
   "metadata": {},
   "outputs": [
    {
     "data": {
      "text/plain": [
       "[['E', '1', '1999-02-28', 'b'],\n",
       " ['A', '2', '1999-10-28', 'a'],\n",
       " ['B', '5', '1998-05-02', 'f'],\n",
       " ['A', '3', '1999-08-28', 'a'],\n",
       " ['C', '6', '1999-12-01', 'f'],\n",
       " ['A', '7', '1998-07-28', 'c'],\n",
       " ['A', '9', '1997-02-28', 'g'],\n",
       " ['B', '1', '1999-05-10', 'b'],\n",
       " ['E', '2', '1997-04-12', 'd'],\n",
       " ['B', '3', '1999-11-23', 'd'],\n",
       " ['C', '7', '1998-01-17', 'd'],\n",
       " ['C', '5', '1998-12-28', 'd'],\n",
       " ['D', '3', '1999-10-15', 'g'],\n",
       " ['E', '8', '1998-11-01', 'c'],\n",
       " ['B', '9', '1999-08-12', 'd'],\n",
       " ['D', '1', '1997-12-01', 'f'],\n",
       " ['E', '3', '1997-07-28', 'e'],\n",
       " ['D', '5', '1998-08-12', 'g'],\n",
       " ['E', '8', '1999-08-24', 'e'],\n",
       " ['E', '9', '1998-01-23', 'e'],\n",
       " ['E', '7', '1999-06-22', 'e'],\n",
       " ['E', '3', '1999-04-24', 'c'],\n",
       " ['D', '5', '1999-06-25', 'c'],\n",
       " ['A', '1', '1999-08-25', 'f'],\n",
       " ['E', '4', '1997-07-26', 'c'],\n",
       " ['E', '6', '1997-09-24', 'e'],\n",
       " ['A', '8', '1997-09-28', 'a'],\n",
       " ['E', '5', '1999-06-22', 'c'],\n",
       " ['A', '6', '1999-07-29', 'f'],\n",
       " ['C', '0', '1999-08-22', 'f'],\n",
       " ['A', '1', '1998-04-26', 'b'],\n",
       " ['D', '2', '1998-02-24', 'b'],\n",
       " ['E', '5', '1999-03-24', 'a'],\n",
       " ['B', '4', '1998-03-23', 'b'],\n",
       " ['B', '6', '1999-04-21', 'f'],\n",
       " ['D', '7', '1999-02-29', 'a'],\n",
       " ['B', '8', '1997-05-21', 'c'],\n",
       " ['C', '9', '1997-07-22', 'c'],\n",
       " ['E', '1', '1999-09-28', 'e'],\n",
       " ['E', '5', '1998-01-26', 'f']]"
      ]
     },
     "execution_count": 84,
     "metadata": {},
     "output_type": "execute_result"
    }
   ],
   "source": []
  },
  {
   "cell_type": "code",
   "execution_count": 95,
   "metadata": {},
   "outputs": [
    {
     "name": "stdout",
     "output_type": "stream",
     "text": [
      "01,3\n",
      "02,4\n",
      "03,2\n",
      "04,4\n",
      "05,3\n",
      "06,3\n",
      "07,5\n",
      "08,6\n",
      "09,3\n",
      "10,2\n",
      "11,2\n",
      "12,3\n"
     ]
    },
    {
     "data": {
      "text/plain": [
       "[None, None, None, None, None, None, None, None, None, None, None, None]"
      ]
     },
     "execution_count": 95,
     "metadata": {},
     "output_type": "execute_result"
    }
   ],
   "source": [
    "csv = open('data.csv', 'r').readlines()\n",
    "csv = [z.replace('\\t', ' ') for z in csv]\n",
    "csv = [z.replace('\\n', ' ') for z in csv]\n",
    "csv = [z.split(',') for z in csv]\n",
    "a = [z[0].split(' ') for z in csv[0:]]\n",
    "b = []\n",
    "[b.append(z[2].split('-')[1]) for z in a]\n",
    "uniquemonths = sorted(list(set(b)))\n",
    "b=[(w, b.count(w)) for w in uniquemonths]\n",
    "[ print(z[0],z[1], sep=\",\") for z in b]"
   ]
  },
  {
   "cell_type": "code",
   "execution_count": null,
   "metadata": {},
   "outputs": [],
   "source": []
  }
 ],
 "metadata": {
  "kernelspec": {
   "display_name": "Python 3",
   "language": "python",
   "name": "python3"
  },
  "language_info": {
   "codemirror_mode": {
    "name": "ipython",
    "version": 3
   },
   "file_extension": ".py",
   "mimetype": "text/x-python",
   "name": "python",
   "nbconvert_exporter": "python",
   "pygments_lexer": "ipython3",
   "version": "3.6.7"
  }
 },
 "nbformat": 4,
 "nbformat_minor": 2
}
