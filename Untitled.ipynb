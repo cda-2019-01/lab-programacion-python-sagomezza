{
 "cells": [
  {
   "cell_type": "code",
   "execution_count": 83,
   "metadata": {},
   "outputs": [
    {
     "name": "stdout",
     "output_type": "stream",
     "text": [
      "190\n"
     ]
    }
   ],
   "source": [
    "csv = open('data.csv', 'r').readlines()\n",
    "csv = [z.replace('\\t', ' ') for z in csv]\n",
    "csv = [z.replace('\\n', ' ') for z in csv]\n",
    "csv = [z.split(',') for z in csv]\n",
    "a = [z[0].split(' ') for z in csv[0:]]\n",
    "b = []\n",
    "[b.append(int(z[1])) for z in a]\n",
    "print(sum(b))"
   ]
  },
  {
   "cell_type": "code",
   "execution_count": 82,
   "metadata": {},
   "outputs": [
    {
     "name": "stdout",
     "output_type": "stream",
     "text": [
      "A,8\n",
      "B,7\n",
      "C,5\n",
      "D,6\n",
      "E,14\n"
     ]
    },
    {
     "data": {
      "text/plain": [
       "[None, None, None, None, None]"
      ]
     },
     "execution_count": 82,
     "metadata": {},
     "output_type": "execute_result"
    }
   ],
   "source": [
    "csv = open('data.csv', 'r').readlines()\n",
    "csv = [z.replace('\\t', ' ') for z in csv]\n",
    "csv = [z.replace('\\n', ' ') for z in csv]\n",
    "csv = [z.split(',') for z in csv]\n",
    "a = [z[0] for z in csv[0:]]\n",
    "a = [z.split(' ') for z in a]\n",
    "b = []\n",
    "[b.append(z[0]) for z in a]\n",
    "uniquewords = set(b)\n",
    "b=[(w, b.count(w)) for w in uniquewords]\n",
    "def takElem (elem):\n",
    "    return elem[0]\n",
    "b.sort(key=takElem)\n",
    "[ print(z[0],z[1], sep=\",\") for z in b]\n",
    "\n"
   ]
  },
  {
   "cell_type": "code",
   "execution_count": 77,
   "metadata": {},
   "outputs": [
    {
     "ename": "SyntaxError",
     "evalue": "invalid syntax (<ipython-input-77-b062a3da90f4>, line 9)",
     "output_type": "error",
     "traceback": [
      "\u001b[0;36m  File \u001b[0;32m\"<ipython-input-77-b062a3da90f4>\"\u001b[0;36m, line \u001b[0;32m9\u001b[0m\n\u001b[0;31m    [ print(w, z[1]) if w == z[0] for z in a for w in uniquewords]\u001b[0m\n\u001b[0m                                    ^\u001b[0m\n\u001b[0;31mSyntaxError\u001b[0m\u001b[0;31m:\u001b[0m invalid syntax\n"
     ]
    }
   ],
   "source": [
    "import itertools\n",
    "from operator import itemgetter\n",
    "\n"
   ]
  },
  {
   "cell_type": "code",
   "execution_count": 84,
   "metadata": {},
   "outputs": [
    {
     "data": {
      "text/plain": [
       "[['E', '1', '1999-02-28', 'b'],\n",
       " ['A', '2', '1999-10-28', 'a'],\n",
       " ['B', '5', '1998-05-02', 'f'],\n",
       " ['A', '3', '1999-08-28', 'a'],\n",
       " ['C', '6', '1999-12-01', 'f'],\n",
       " ['A', '7', '1998-07-28', 'c'],\n",
       " ['A', '9', '1997-02-28', 'g'],\n",
       " ['B', '1', '1999-05-10', 'b'],\n",
       " ['E', '2', '1997-04-12', 'd'],\n",
       " ['B', '3', '1999-11-23', 'd'],\n",
       " ['C', '7', '1998-01-17', 'd'],\n",
       " ['C', '5', '1998-12-28', 'd'],\n",
       " ['D', '3', '1999-10-15', 'g'],\n",
       " ['E', '8', '1998-11-01', 'c'],\n",
       " ['B', '9', '1999-08-12', 'd'],\n",
       " ['D', '1', '1997-12-01', 'f'],\n",
       " ['E', '3', '1997-07-28', 'e'],\n",
       " ['D', '5', '1998-08-12', 'g'],\n",
       " ['E', '8', '1999-08-24', 'e'],\n",
       " ['E', '9', '1998-01-23', 'e'],\n",
       " ['E', '7', '1999-06-22', 'e'],\n",
       " ['E', '3', '1999-04-24', 'c'],\n",
       " ['D', '5', '1999-06-25', 'c'],\n",
       " ['A', '1', '1999-08-25', 'f'],\n",
       " ['E', '4', '1997-07-26', 'c'],\n",
       " ['E', '6', '1997-09-24', 'e'],\n",
       " ['A', '8', '1997-09-28', 'a'],\n",
       " ['E', '5', '1999-06-22', 'c'],\n",
       " ['A', '6', '1999-07-29', 'f'],\n",
       " ['C', '0', '1999-08-22', 'f'],\n",
       " ['A', '1', '1998-04-26', 'b'],\n",
       " ['D', '2', '1998-02-24', 'b'],\n",
       " ['E', '5', '1999-03-24', 'a'],\n",
       " ['B', '4', '1998-03-23', 'b'],\n",
       " ['B', '6', '1999-04-21', 'f'],\n",
       " ['D', '7', '1999-02-29', 'a'],\n",
       " ['B', '8', '1997-05-21', 'c'],\n",
       " ['C', '9', '1997-07-22', 'c'],\n",
       " ['E', '1', '1999-09-28', 'e'],\n",
       " ['E', '5', '1998-01-26', 'f']]"
      ]
     },
     "execution_count": 84,
     "metadata": {},
     "output_type": "execute_result"
    }
   ],
   "source": []
  },
  {
   "cell_type": "code",
   "execution_count": 95,
   "metadata": {},
   "outputs": [
    {
     "name": "stdout",
     "output_type": "stream",
     "text": [
      "01,3\n",
      "02,4\n",
      "03,2\n",
      "04,4\n",
      "05,3\n",
      "06,3\n",
      "07,5\n",
      "08,6\n",
      "09,3\n",
      "10,2\n",
      "11,2\n",
      "12,3\n"
     ]
    },
    {
     "data": {
      "text/plain": [
       "[None, None, None, None, None, None, None, None, None, None, None, None]"
      ]
     },
     "execution_count": 95,
     "metadata": {},
     "output_type": "execute_result"
    }
   ],
   "source": [
    "csv = open('data.csv', 'r').readlines()\n",
    "csv = [z.replace('\\t', ' ') for z in csv]\n",
    "csv = [z.replace('\\n', ' ') for z in csv]\n",
    "csv = [z.split(',') for z in csv]\n",
    "a = [z[0].split(' ') for z in csv[0:]]\n",
    "b = []\n",
    "[b.append(z[2].split('-')[1]) for z in a]\n",
    "uniquemonths = sorted(list(set(b)))\n",
    "b=[(w, b.count(w)) for w in uniquemonths]\n",
    "[ print(z[0],z[1], sep=\",\") for z in b]"
   ]
  },
  {
   "cell_type": "code",
   "execution_count": 30,
   "metadata": {},
   "outputs": [
    {
     "name": "stdout",
     "output_type": "stream",
     "text": [
      "A,9,1\n",
      "B,9,1\n",
      "C,9,0\n",
      "D,7,1\n",
      "E,9,1\n"
     ]
    },
    {
     "data": {
      "text/plain": [
       "[None, None, None, None, None]"
      ]
     },
     "execution_count": 30,
     "metadata": {},
     "output_type": "execute_result"
    }
   ],
   "source": [
    "csv = open('data.csv', 'r').readlines()\n",
    "csv = [z.replace('\\t', ' ') for z in csv]\n",
    "csv = [z.replace('\\n', ' ') for z in csv]\n",
    "csv = [z.split(',') for z in csv]\n",
    "a = [z[0].split(' ') for z in csv[0:]]\n",
    "b = []\n",
    "[b.append(z[0]) for z in a]\n",
    "uniquewords = sorted(list(set(b)))\n",
    "def getMax (potato):\n",
    "    return list(set([(row[1]) for row in a if int(row[1]) == max(int(x[1]) for x in a if x[0] == potato )]))[0]\n",
    "def getMin (potato):\n",
    "    return list(set([(row[1]) for row in a if int(row[1]) == min(int(x[1]) for x in a if x[0] == potato )]))[0]\n",
    "[print(word, getMax(word), getMin(word), sep=\",\") for word in uniquewords]\n"
   ]
  },
  {
   "cell_type": "code",
   "execution_count": 93,
   "metadata": {},
   "outputs": [
    {
     "data": {
      "text/plain": [
       "[['jjj:3', 'bbb:0', 'ddd:9', 'ggg:8', 'hhh:2'],\n",
       " ['ccc:2', 'ddd:0', 'aaa:3', 'hhh:9'],\n",
       " ['ddd:2', 'ggg:5', 'ccc:6', 'jjj:1'],\n",
       " ['hhh:9', 'iii:5', 'eee:7', 'bbb:1'],\n",
       " ['iii:6', 'ddd:5', 'eee:4', 'jjj:3'],\n",
       " ['bbb:2', 'hhh:0', 'ccc:4', 'fff:1', 'aaa:7'],\n",
       " ['aaa:5', 'fff:8', 'ddd:2', 'iii:0', 'jjj:7', 'ccc:1'],\n",
       " ['fff:3', 'hhh:1', 'ddd:2'],\n",
       " ['eee:4', 'ccc:5', 'iii:9', 'fff:7', 'ggg:6', 'bbb:0'],\n",
       " ['bbb:7', 'jjj:9', 'fff:5', 'iii:4', 'ggg:2', 'eee:3'],\n",
       " ['hhh:6', 'eee:4', 'iii:0', 'fff:2', 'jjj:1'],\n",
       " ['bbb:7', 'iii:6', 'ggg:9'],\n",
       " ['bbb:9', 'aaa:3', 'ccc:6', 'fff:4', 'eee:2'],\n",
       " ['aaa:8', 'ddd:5', 'jjj:1'],\n",
       " ['ccc:0', 'jjj:6', 'fff:7', 'ddd:3', 'aaa:2'],\n",
       " ['ccc:0', 'eee:6', 'bbb:9', 'ddd:3'],\n",
       " ['bbb:6', 'iii:3', 'hhh:5', 'fff:4', 'ggg:9', 'ddd:2'],\n",
       " ['hhh:4', 'jjj:5', 'ccc:9'],\n",
       " ['ccc:1', 'iii:6', 'fff:9'],\n",
       " ['bbb:9', 'aaa:3', 'fff:1'],\n",
       " ['ddd:9', 'iii:2', 'aaa:4'],\n",
       " ['ccc:5', 'fff:8', 'iii:7'],\n",
       " ['eee:3', 'jjj:2', 'ddd:7'],\n",
       " ['jjj:1', 'ggg:0', 'ccc:7', 'ddd:9', 'bbb:3'],\n",
       " ['jjj:6', 'ccc:0', 'aaa:1', 'hhh:9', 'iii:7', 'ggg:8'],\n",
       " ['fff:3', 'eee:6', 'iii:4', 'bbb:7', 'ddd:0', 'ccc:1'],\n",
       " ['fff:0', 'ddd:5', 'ccc:4'],\n",
       " ['ggg:6', 'hhh:3', 'ddd:9', 'ccc:0', 'jjj:7'],\n",
       " ['hhh:6', 'jjj:0', 'eee:5', 'iii:7', 'ccc:3'],\n",
       " ['eee:1', 'fff:4', 'aaa:2', 'ccc:7', 'ggg:0', 'ddd:6'],\n",
       " ['ccc:6', 'aaa:9', 'eee:5', 'ddd:0', 'bbb:3'],\n",
       " ['bbb:7', 'hhh:1', 'aaa:6', 'iii:4', 'fff:9', 'ddd:5'],\n",
       " ['fff:3', 'ccc:1', 'ggg:2', 'eee:5'],\n",
       " ['iii:7', 'ggg:3', 'ddd:0', 'jjj:8', 'hhh:5', 'ccc:1'],\n",
       " ['hhh:6', 'ccc:3', 'jjj:0', 'bbb:8', 'ddd:7'],\n",
       " ['aaa:0', 'fff:5', 'ddd:3'],\n",
       " ['ddd:5', 'jjj:2', 'iii:7', 'ccc:0', 'bbb:4'],\n",
       " ['eee:0', 'fff:2', 'hhh:6'],\n",
       " ['fff:9', 'iii:2', 'eee:0'],\n",
       " ['hhh:8', 'ggg:3', 'jjj:5']]"
      ]
     },
     "execution_count": 93,
     "metadata": {},
     "output_type": "execute_result"
    }
   ],
   "source": [
    "csv = open('data.csv', 'r').readlines()\n",
    "csv = [z.replace('\\t', ' ') for z in csv]\n",
    "csv = [z.replace('\\n', ' ') for z in csv]\n",
    "csv = [z.split(' ') for z in csv]\n",
    "a = [z[4].split(',') for z in csv]\n",
    "a"
   ]
  },
  {
   "cell_type": "code",
   "execution_count": 80,
   "metadata": {},
   "outputs": [
    {
     "name": "stdout",
     "output_type": "stream",
     "text": [
      "('0', ['C'])\n",
      "('1', ['E', 'B', 'D', 'A', 'A', 'E'])\n",
      "('2', ['A', 'E', 'D'])\n",
      "('3', ['A', 'B', 'D', 'E', 'E'])\n",
      "('4', ['E', 'B'])\n",
      "('5', ['B', 'C', 'D', 'D', 'E', 'E', 'E'])\n",
      "('6', ['C', 'E', 'A', 'B'])\n",
      "('7', ['A', 'C', 'E', 'D'])\n",
      "('8', ['E', 'E', 'A', 'B'])\n",
      "('9', ['A', 'B', 'E', 'C'])\n"
     ]
    },
    {
     "data": {
      "text/plain": [
       "[None, None, None, None, None, None, None, None, None, None]"
      ]
     },
     "execution_count": 80,
     "metadata": {},
     "output_type": "execute_result"
    }
   ],
   "source": [
    "csv = open('data.csv', 'r').readlines()\n",
    "csv = [z.replace('\\t', ' ') for z in csv]\n",
    "csv = [z.replace('\\n', ' ') for z in csv]\n",
    "csv = [z.split(',') for z in csv]\n",
    "a = [z[0].split(' ') for z in csv[0:]]\n",
    "b = []\n",
    "[b.append(z[1]) for z in a]\n",
    "uniquenums = sorted(list(set(b)))\n",
    "def getLetters(potato):\n",
    "    return [(row[0]) for row in a  if row[1] == potato ]\n",
    "[print((num, getLetters(num))) for num in uniquenums]"
   ]
  },
  {
   "cell_type": "code",
   "execution_count": 82,
   "metadata": {},
   "outputs": [
    {
     "name": "stdout",
     "output_type": "stream",
     "text": [
      "('0', ['C'])\n",
      "('1', ['A', 'B', 'D', 'E'])\n",
      "('2', ['A', 'D', 'E'])\n",
      "('3', ['A', 'B', 'D', 'E'])\n",
      "('4', ['B', 'E'])\n",
      "('5', ['B', 'C', 'D', 'E'])\n",
      "('6', ['A', 'B', 'C', 'E'])\n",
      "('7', ['A', 'C', 'D', 'E'])\n",
      "('8', ['A', 'B', 'E'])\n",
      "('9', ['A', 'B', 'C', 'E'])\n"
     ]
    },
    {
     "data": {
      "text/plain": [
       "[None, None, None, None, None, None, None, None, None, None]"
      ]
     },
     "execution_count": 82,
     "metadata": {},
     "output_type": "execute_result"
    }
   ],
   "source": [
    "csv = open('data.csv', 'r').readlines()\n",
    "csv = [z.replace('\\t', ' ') for z in csv]\n",
    "csv = [z.replace('\\n', ' ') for z in csv]\n",
    "csv = [z.split(',') for z in csv]\n",
    "a = [z[0].split(' ') for z in csv[0:]]\n",
    "b = []\n",
    "[b.append(z[1]) for z in a]\n",
    "uniquenums = sorted(list(set(b)))\n",
    "def getLetters(potato):\n",
    "    return sorted(list(set([(row[0]) for row in a  if row[1] == potato ])))\n",
    "[print((num, getLetters(num))) for num in uniquenums]"
   ]
  },
  {
   "cell_type": "code",
   "execution_count": null,
   "metadata": {},
   "outputs": [],
   "source": []
  }
 ],
 "metadata": {
  "kernelspec": {
   "display_name": "Python 3",
   "language": "python",
   "name": "python3"
  },
  "language_info": {
   "codemirror_mode": {
    "name": "ipython",
    "version": 3
   },
   "file_extension": ".py",
   "mimetype": "text/x-python",
   "name": "python",
   "nbconvert_exporter": "python",
   "pygments_lexer": "ipython3",
   "version": "3.6.7"
  }
 },
 "nbformat": 4,
 "nbformat_minor": 2
}
